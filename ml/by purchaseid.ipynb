{
 "cells": [
  {
   "cell_type": "code",
   "execution_count": 60,
   "id": "3816f1b1",
   "metadata": {
    "scrolled": true
   },
   "outputs": [],
   "source": [
    "import pandas as pd\n",
    "import numpy as np\n",
    "import turicreate as tc"
   ]
  },
  {
   "cell_type": "code",
   "execution_count": 41,
   "id": "e2d806c2",
   "metadata": {},
   "outputs": [],
   "source": [
    "df = pd.read_excel(\"SpareItemDump.xlsx\",engine=\"openpyxl\")"
   ]
  },
  {
   "cell_type": "code",
   "execution_count": null,
   "id": "8d92326e",
   "metadata": {},
   "outputs": [],
   "source": []
  },
  {
   "cell_type": "code",
   "execution_count": 42,
   "id": "172d35c9",
   "metadata": {},
   "outputs": [],
   "source": [
    "df.dropna(subset = [\"PurchaseOrderId\"], inplace=True)"
   ]
  },
  {
   "cell_type": "code",
   "execution_count": 43,
   "id": "2ad3003a",
   "metadata": {},
   "outputs": [],
   "source": [
    "df.reset_index(drop=True, inplace=True)"
   ]
  },
  {
   "cell_type": "code",
   "execution_count": 44,
   "id": "13a461be",
   "metadata": {},
   "outputs": [],
   "source": [
    "df[\"PurchaseOrderId\"]=df[\"PurchaseOrderId\"].astype(int)"
   ]
  },
  {
   "cell_type": "code",
   "execution_count": 45,
   "id": "e2cf23d8",
   "metadata": {},
   "outputs": [
    {
     "data": {
      "text/html": [
       "<div>\n",
       "<style scoped>\n",
       "    .dataframe tbody tr th:only-of-type {\n",
       "        vertical-align: middle;\n",
       "    }\n",
       "\n",
       "    .dataframe tbody tr th {\n",
       "        vertical-align: top;\n",
       "    }\n",
       "\n",
       "    .dataframe thead th {\n",
       "        text-align: right;\n",
       "    }\n",
       "</style>\n",
       "<table border=\"1\" class=\"dataframe\">\n",
       "  <thead>\n",
       "    <tr style=\"text-align: right;\">\n",
       "      <th></th>\n",
       "      <th>RequestDate</th>\n",
       "      <th>RequestId</th>\n",
       "      <th>PurchaseOrderId</th>\n",
       "      <th>Vendor</th>\n",
       "      <th>Garage</th>\n",
       "      <th>Make</th>\n",
       "      <th>Model</th>\n",
       "      <th>SubCategory</th>\n",
       "      <th>Category</th>\n",
       "      <th>RequestedBrand</th>\n",
       "      <th>FulfilledBrand</th>\n",
       "      <th>Variant</th>\n",
       "      <th>ItemName</th>\n",
       "      <th>ItemQty</th>\n",
       "      <th>ItemUnitPrice</th>\n",
       "      <th>PartNbr</th>\n",
       "    </tr>\n",
       "  </thead>\n",
       "  <tbody>\n",
       "    <tr>\n",
       "      <th>0</th>\n",
       "      <td>2023-07-01</td>\n",
       "      <td>303887</td>\n",
       "      <td>15791</td>\n",
       "      <td>Essarr Automotives - Bannerghatta</td>\n",
       "      <td>Canaraa Car Care Centre</td>\n",
       "      <td>Maruti Suzuki</td>\n",
       "      <td>Omni</td>\n",
       "      <td>NaN</td>\n",
       "      <td>NaN</td>\n",
       "      <td>oem</td>\n",
       "      <td>mgp</td>\n",
       "      <td>Std</td>\n",
       "      <td>Plug Wire</td>\n",
       "      <td>1.0</td>\n",
       "      <td>743.60</td>\n",
       "      <td>33700M79020</td>\n",
       "    </tr>\n",
       "    <tr>\n",
       "      <th>1</th>\n",
       "      <td>2023-07-01</td>\n",
       "      <td>303890</td>\n",
       "      <td>15790</td>\n",
       "      <td>Autoverse Mobility Pvt Ltd</td>\n",
       "      <td>Express Car Care</td>\n",
       "      <td>Hyundai</td>\n",
       "      <td>Eon</td>\n",
       "      <td>NaN</td>\n",
       "      <td>NaN</td>\n",
       "      <td>any</td>\n",
       "      <td>Purolator</td>\n",
       "      <td>Nill</td>\n",
       "      <td>Air Filter</td>\n",
       "      <td>5.0</td>\n",
       "      <td>164.56</td>\n",
       "      <td>PI-2272</td>\n",
       "    </tr>\n",
       "    <tr>\n",
       "      <th>2</th>\n",
       "      <td>2023-07-01</td>\n",
       "      <td>303893</td>\n",
       "      <td>15936</td>\n",
       "      <td>Suma Enterprises</td>\n",
       "      <td>Arodhana Synergy Private Limited</td>\n",
       "      <td>Mahindra</td>\n",
       "      <td>XUV500</td>\n",
       "      <td>NaN</td>\n",
       "      <td>NaN</td>\n",
       "      <td>oem</td>\n",
       "      <td>Mahindra</td>\n",
       "      <td>R FWD</td>\n",
       "      <td>Bracket, Radiator Support Lower</td>\n",
       "      <td>1.0</td>\n",
       "      <td>12438.00</td>\n",
       "      <td>0102AW0400NN</td>\n",
       "    </tr>\n",
       "    <tr>\n",
       "      <th>3</th>\n",
       "      <td>2023-07-01</td>\n",
       "      <td>303895</td>\n",
       "      <td>15794</td>\n",
       "      <td>Essarr Automotives - Bannerghatta</td>\n",
       "      <td>Laksh</td>\n",
       "      <td>Maruti Suzuki</td>\n",
       "      <td>Swift</td>\n",
       "      <td>NaN</td>\n",
       "      <td>NaN</td>\n",
       "      <td>oem</td>\n",
       "      <td>MGP</td>\n",
       "      <td>V</td>\n",
       "      <td>Alternator Belt</td>\n",
       "      <td>2.0</td>\n",
       "      <td>382.80</td>\n",
       "      <td>95141M86JB0</td>\n",
       "    </tr>\n",
       "    <tr>\n",
       "      <th>4</th>\n",
       "      <td>2023-07-01</td>\n",
       "      <td>303896</td>\n",
       "      <td>15793</td>\n",
       "      <td>Essarr Automotives - Bannerghatta</td>\n",
       "      <td>Laksh</td>\n",
       "      <td>Maruti Suzuki</td>\n",
       "      <td>Swift</td>\n",
       "      <td>NaN</td>\n",
       "      <td>NaN</td>\n",
       "      <td>oem</td>\n",
       "      <td>MARUTI</td>\n",
       "      <td>V</td>\n",
       "      <td>Air Filter</td>\n",
       "      <td>5.0</td>\n",
       "      <td>171.60</td>\n",
       "      <td>13780M76M00</td>\n",
       "    </tr>\n",
       "    <tr>\n",
       "      <th>...</th>\n",
       "      <td>...</td>\n",
       "      <td>...</td>\n",
       "      <td>...</td>\n",
       "      <td>...</td>\n",
       "      <td>...</td>\n",
       "      <td>...</td>\n",
       "      <td>...</td>\n",
       "      <td>...</td>\n",
       "      <td>...</td>\n",
       "      <td>...</td>\n",
       "      <td>...</td>\n",
       "      <td>...</td>\n",
       "      <td>...</td>\n",
       "      <td>...</td>\n",
       "      <td>...</td>\n",
       "      <td>...</td>\n",
       "    </tr>\n",
       "    <tr>\n",
       "      <th>5356</th>\n",
       "      <td>2023-10-26</td>\n",
       "      <td>311379</td>\n",
       "      <td>18233</td>\n",
       "      <td>Grand Auto Spares</td>\n",
       "      <td>Motorlyfe Automotive</td>\n",
       "      <td>Hyundai</td>\n",
       "      <td>i20</td>\n",
       "      <td>Spark Plug</td>\n",
       "      <td>Electrical Components</td>\n",
       "      <td>oes</td>\n",
       "      <td>NGK</td>\n",
       "      <td>1.2L (83 h.p.)</td>\n",
       "      <td>Spark Plug Set Of 4</td>\n",
       "      <td>1.0</td>\n",
       "      <td>180.34</td>\n",
       "      <td>LKR7E</td>\n",
       "    </tr>\n",
       "    <tr>\n",
       "      <th>5357</th>\n",
       "      <td>2023-10-26</td>\n",
       "      <td>311387</td>\n",
       "      <td>18239</td>\n",
       "      <td>Essarr Automotives - BG Road</td>\n",
       "      <td>V R Automotives</td>\n",
       "      <td>Maruti Suzuki</td>\n",
       "      <td>Alto 800</td>\n",
       "      <td>Door Handle</td>\n",
       "      <td>Interior and Comfort</td>\n",
       "      <td>oem</td>\n",
       "      <td>Maruti Suzuki</td>\n",
       "      <td>0.8L LX (TYPE 2) (47 h.p.)</td>\n",
       "      <td>Rear Outer Door Handle - LH</td>\n",
       "      <td>1.0</td>\n",
       "      <td>237.60</td>\n",
       "      <td>82802M68K50-5PK</td>\n",
       "    </tr>\n",
       "    <tr>\n",
       "      <th>5358</th>\n",
       "      <td>2023-10-26</td>\n",
       "      <td>311387</td>\n",
       "      <td>18239</td>\n",
       "      <td>Essarr Automotives - BG Road</td>\n",
       "      <td>V R Automotives</td>\n",
       "      <td>Maruti Suzuki</td>\n",
       "      <td>Alto 800</td>\n",
       "      <td>Door Handle</td>\n",
       "      <td>Interior and Comfort</td>\n",
       "      <td>oem</td>\n",
       "      <td>Maruti Suzuki</td>\n",
       "      <td>0.8L LX (TYPE 2) (47 h.p.)</td>\n",
       "      <td>Outer Door Handle - RH</td>\n",
       "      <td>1.0</td>\n",
       "      <td>237.60</td>\n",
       "      <td>82801M68K50-5PK</td>\n",
       "    </tr>\n",
       "    <tr>\n",
       "      <th>5359</th>\n",
       "      <td>2023-10-26</td>\n",
       "      <td>311388</td>\n",
       "      <td>18238</td>\n",
       "      <td>Essarr Automotives - BG Road</td>\n",
       "      <td>Wrap Auto Shop And Service Center</td>\n",
       "      <td>Maruti Suzuki</td>\n",
       "      <td>Swift</td>\n",
       "      <td>Outside Mirror Cover</td>\n",
       "      <td>Body</td>\n",
       "      <td>oem</td>\n",
       "      <td>Maruti Suzuki</td>\n",
       "      <td>1.3L LDI (TYPE 1) (74 h.p.)</td>\n",
       "      <td>Mirror Cap - RH</td>\n",
       "      <td>1.0</td>\n",
       "      <td>206.80</td>\n",
       "      <td>84728M74LA0-5PK</td>\n",
       "    </tr>\n",
       "    <tr>\n",
       "      <th>5360</th>\n",
       "      <td>2023-10-26</td>\n",
       "      <td>311388</td>\n",
       "      <td>18238</td>\n",
       "      <td>Essarr Automotives - BG Road</td>\n",
       "      <td>Wrap Auto Shop And Service Center</td>\n",
       "      <td>Maruti Suzuki</td>\n",
       "      <td>Swift</td>\n",
       "      <td>Indicator</td>\n",
       "      <td>Body</td>\n",
       "      <td>oem</td>\n",
       "      <td>Maruti Suzuki</td>\n",
       "      <td>1.3L LDI (TYPE 1) (74 h.p.)</td>\n",
       "      <td>Side Mirror Indicator - RH</td>\n",
       "      <td>1.0</td>\n",
       "      <td>1214.40</td>\n",
       "      <td>36430M82K00</td>\n",
       "    </tr>\n",
       "  </tbody>\n",
       "</table>\n",
       "<p>5361 rows × 16 columns</p>\n",
       "</div>"
      ],
      "text/plain": [
       "     RequestDate  RequestId  PurchaseOrderId  \\\n",
       "0     2023-07-01     303887            15791   \n",
       "1     2023-07-01     303890            15790   \n",
       "2     2023-07-01     303893            15936   \n",
       "3     2023-07-01     303895            15794   \n",
       "4     2023-07-01     303896            15793   \n",
       "...          ...        ...              ...   \n",
       "5356  2023-10-26     311379            18233   \n",
       "5357  2023-10-26     311387            18239   \n",
       "5358  2023-10-26     311387            18239   \n",
       "5359  2023-10-26     311388            18238   \n",
       "5360  2023-10-26     311388            18238   \n",
       "\n",
       "                                 Vendor                             Garage  \\\n",
       "0     Essarr Automotives - Bannerghatta            Canaraa Car Care Centre   \n",
       "1            Autoverse Mobility Pvt Ltd                   Express Car Care   \n",
       "2                      Suma Enterprises   Arodhana Synergy Private Limited   \n",
       "3     Essarr Automotives - Bannerghatta                              Laksh   \n",
       "4     Essarr Automotives - Bannerghatta                              Laksh   \n",
       "...                                 ...                                ...   \n",
       "5356                  Grand Auto Spares               Motorlyfe Automotive   \n",
       "5357       Essarr Automotives - BG Road                    V R Automotives   \n",
       "5358       Essarr Automotives - BG Road                    V R Automotives   \n",
       "5359       Essarr Automotives - BG Road  Wrap Auto Shop And Service Center   \n",
       "5360       Essarr Automotives - BG Road  Wrap Auto Shop And Service Center   \n",
       "\n",
       "               Make     Model           SubCategory               Category  \\\n",
       "0     Maruti Suzuki      Omni                   NaN                    NaN   \n",
       "1           Hyundai       Eon                   NaN                    NaN   \n",
       "2          Mahindra    XUV500                   NaN                    NaN   \n",
       "3     Maruti Suzuki     Swift                   NaN                    NaN   \n",
       "4     Maruti Suzuki     Swift                   NaN                    NaN   \n",
       "...             ...       ...                   ...                    ...   \n",
       "5356        Hyundai       i20            Spark Plug  Electrical Components   \n",
       "5357  Maruti Suzuki  Alto 800           Door Handle   Interior and Comfort   \n",
       "5358  Maruti Suzuki  Alto 800           Door Handle   Interior and Comfort   \n",
       "5359  Maruti Suzuki     Swift  Outside Mirror Cover                   Body   \n",
       "5360  Maruti Suzuki     Swift             Indicator                   Body   \n",
       "\n",
       "     RequestedBrand FulfilledBrand                      Variant  \\\n",
       "0               oem            mgp                          Std   \n",
       "1               any      Purolator                         Nill   \n",
       "2               oem       Mahindra                        R FWD   \n",
       "3               oem            MGP                            V   \n",
       "4               oem         MARUTI                            V   \n",
       "...             ...            ...                          ...   \n",
       "5356            oes            NGK               1.2L (83 h.p.)   \n",
       "5357            oem  Maruti Suzuki   0.8L LX (TYPE 2) (47 h.p.)   \n",
       "5358            oem  Maruti Suzuki   0.8L LX (TYPE 2) (47 h.p.)   \n",
       "5359            oem  Maruti Suzuki  1.3L LDI (TYPE 1) (74 h.p.)   \n",
       "5360            oem  Maruti Suzuki  1.3L LDI (TYPE 1) (74 h.p.)   \n",
       "\n",
       "                             ItemName  ItemQty  ItemUnitPrice          PartNbr  \n",
       "0                           Plug Wire      1.0         743.60      33700M79020  \n",
       "1                          Air Filter      5.0         164.56          PI-2272  \n",
       "2     Bracket, Radiator Support Lower      1.0       12438.00     0102AW0400NN  \n",
       "3                     Alternator Belt      2.0         382.80      95141M86JB0  \n",
       "4                          Air Filter      5.0         171.60      13780M76M00  \n",
       "...                               ...      ...            ...              ...  \n",
       "5356              Spark Plug Set Of 4      1.0         180.34            LKR7E  \n",
       "5357      Rear Outer Door Handle - LH      1.0         237.60  82802M68K50-5PK  \n",
       "5358           Outer Door Handle - RH      1.0         237.60  82801M68K50-5PK  \n",
       "5359                  Mirror Cap - RH      1.0         206.80  84728M74LA0-5PK  \n",
       "5360       Side Mirror Indicator - RH      1.0        1214.40      36430M82K00  \n",
       "\n",
       "[5361 rows x 16 columns]"
      ]
     },
     "execution_count": 45,
     "metadata": {},
     "output_type": "execute_result"
    }
   ],
   "source": [
    "df"
   ]
  },
  {
   "cell_type": "code",
   "execution_count": 46,
   "id": "df02b2cc",
   "metadata": {},
   "outputs": [],
   "source": [
    "d={}\n",
    "for i in range(len(df)):\n",
    "    if df[\"PurchaseOrderId\"][i] in d:\n",
    "        items = df[\"ItemName\"][i].split(\",\")\n",
    "        for item in items:\n",
    "            item = item.strip()\n",
    "            if item in d[df[\"PurchaseOrderId\"][i]]:\n",
    "                (d[df[\"PurchaseOrderId\"][i]])[item] +=1\n",
    "            else:\n",
    "                d[df[\"PurchaseOrderId\"][i]].update({item: 1})\n",
    "    else:\n",
    "        items = df[\"ItemName\"][i].split(\",\")\n",
    "        d[df[\"PurchaseOrderId\"][i]]={items[0]:1}\n",
    "        if len(items)>1:\n",
    "            for k in range(1,len(items)):\n",
    "                item = items[k].strip()\n",
    "                if item in d[df[\"PurchaseOrderId\"][i]]:\n",
    "                    (d[df[\"PurchaseOrderId\"][i]])[item] +=1\n",
    "                else:\n",
    "                    d[df[\"PurchaseOrderId\"][i]].update({item: 1})"
   ]
  },
  {
   "cell_type": "code",
   "execution_count": 47,
   "id": "485a05f2",
   "metadata": {},
   "outputs": [],
   "source": [
    "li=[]\n",
    "for i in d:\n",
    "    for j in d[i]:\n",
    "        li.append([i,j,d[i][j]])\n",
    "data = pd.DataFrame(li,columns=[\"PurchaseOrderId\",\"product_name\",\"purchase_count\"])"
   ]
  },
  {
   "cell_type": "code",
   "execution_count": 48,
   "id": "4a37434b",
   "metadata": {
    "scrolled": true
   },
   "outputs": [
    {
     "data": {
      "text/html": [
       "<div>\n",
       "<style scoped>\n",
       "    .dataframe tbody tr th:only-of-type {\n",
       "        vertical-align: middle;\n",
       "    }\n",
       "\n",
       "    .dataframe tbody tr th {\n",
       "        vertical-align: top;\n",
       "    }\n",
       "\n",
       "    .dataframe thead th {\n",
       "        text-align: right;\n",
       "    }\n",
       "</style>\n",
       "<table border=\"1\" class=\"dataframe\">\n",
       "  <thead>\n",
       "    <tr style=\"text-align: right;\">\n",
       "      <th></th>\n",
       "      <th>PurchaseOrderId</th>\n",
       "      <th>product_name</th>\n",
       "      <th>purchase_count</th>\n",
       "    </tr>\n",
       "  </thead>\n",
       "  <tbody>\n",
       "    <tr>\n",
       "      <th>0</th>\n",
       "      <td>15791</td>\n",
       "      <td>Plug Wire</td>\n",
       "      <td>1</td>\n",
       "    </tr>\n",
       "    <tr>\n",
       "      <th>1</th>\n",
       "      <td>15790</td>\n",
       "      <td>Air Filter</td>\n",
       "      <td>1</td>\n",
       "    </tr>\n",
       "    <tr>\n",
       "      <th>2</th>\n",
       "      <td>15936</td>\n",
       "      <td>Bracket</td>\n",
       "      <td>1</td>\n",
       "    </tr>\n",
       "    <tr>\n",
       "      <th>3</th>\n",
       "      <td>15936</td>\n",
       "      <td>Radiator Support Lower</td>\n",
       "      <td>1</td>\n",
       "    </tr>\n",
       "    <tr>\n",
       "      <th>4</th>\n",
       "      <td>15794</td>\n",
       "      <td>Alternator Belt</td>\n",
       "      <td>1</td>\n",
       "    </tr>\n",
       "    <tr>\n",
       "      <th>...</th>\n",
       "      <td>...</td>\n",
       "      <td>...</td>\n",
       "      <td>...</td>\n",
       "    </tr>\n",
       "    <tr>\n",
       "      <th>5518</th>\n",
       "      <td>18233</td>\n",
       "      <td>Spark Plug Set Of 4</td>\n",
       "      <td>1</td>\n",
       "    </tr>\n",
       "    <tr>\n",
       "      <th>5519</th>\n",
       "      <td>18239</td>\n",
       "      <td>Rear Outer Door Handle - LH</td>\n",
       "      <td>1</td>\n",
       "    </tr>\n",
       "    <tr>\n",
       "      <th>5520</th>\n",
       "      <td>18239</td>\n",
       "      <td>Outer Door Handle - RH</td>\n",
       "      <td>1</td>\n",
       "    </tr>\n",
       "    <tr>\n",
       "      <th>5521</th>\n",
       "      <td>18238</td>\n",
       "      <td>Mirror Cap - RH</td>\n",
       "      <td>1</td>\n",
       "    </tr>\n",
       "    <tr>\n",
       "      <th>5522</th>\n",
       "      <td>18238</td>\n",
       "      <td>Side Mirror Indicator - RH</td>\n",
       "      <td>1</td>\n",
       "    </tr>\n",
       "  </tbody>\n",
       "</table>\n",
       "<p>5523 rows × 3 columns</p>\n",
       "</div>"
      ],
      "text/plain": [
       "      PurchaseOrderId                 product_name  purchase_count\n",
       "0               15791                    Plug Wire               1\n",
       "1               15790                   Air Filter               1\n",
       "2               15936                      Bracket               1\n",
       "3               15936       Radiator Support Lower               1\n",
       "4               15794              Alternator Belt               1\n",
       "...               ...                          ...             ...\n",
       "5518            18233          Spark Plug Set Of 4               1\n",
       "5519            18239  Rear Outer Door Handle - LH               1\n",
       "5520            18239       Outer Door Handle - RH               1\n",
       "5521            18238              Mirror Cap - RH               1\n",
       "5522            18238   Side Mirror Indicator - RH               1\n",
       "\n",
       "[5523 rows x 3 columns]"
      ]
     },
     "execution_count": 48,
     "metadata": {},
     "output_type": "execute_result"
    }
   ],
   "source": [
    "data"
   ]
  },
  {
   "cell_type": "code",
   "execution_count": 49,
   "id": "0db22428",
   "metadata": {},
   "outputs": [],
   "source": [
    "def create_data_dummy(data):\n",
    "    data_dummy = data.copy()\n",
    "    data_dummy['purchase_dummy'] = 1\n",
    "    return data_dummy\n",
    "data_dummy = create_data_dummy(data)"
   ]
  },
  {
   "cell_type": "code",
   "execution_count": 50,
   "id": "2c4fcff3",
   "metadata": {},
   "outputs": [],
   "source": []
  },
  {
   "cell_type": "code",
   "execution_count": 51,
   "id": "fd504bc8",
   "metadata": {},
   "outputs": [],
   "source": [
    "data = tc.SFrame(data)\n",
    "data_dummy =  tc.SFrame(data_dummy)"
   ]
  },
  {
   "cell_type": "code",
   "execution_count": null,
   "id": "ee39d472",
   "metadata": {},
   "outputs": [],
   "source": []
  },
  {
   "cell_type": "code",
   "execution_count": null,
   "id": "c421040e",
   "metadata": {},
   "outputs": [],
   "source": []
  },
  {
   "cell_type": "code",
   "execution_count": null,
   "id": "4cd2e3af",
   "metadata": {},
   "outputs": [],
   "source": []
  },
  {
   "cell_type": "code",
   "execution_count": 92,
   "id": "b8ac9135",
   "metadata": {},
   "outputs": [],
   "source": [
    "data_dummy  = pd.read_csv(\"byPurchaseOrderId.csv\")"
   ]
  },
  {
   "cell_type": "code",
   "execution_count": 93,
   "id": "6ba1b2b5",
   "metadata": {},
   "outputs": [
    {
     "data": {
      "text/html": [
       "<div>\n",
       "<style scoped>\n",
       "    .dataframe tbody tr th:only-of-type {\n",
       "        vertical-align: middle;\n",
       "    }\n",
       "\n",
       "    .dataframe tbody tr th {\n",
       "        vertical-align: top;\n",
       "    }\n",
       "\n",
       "    .dataframe thead th {\n",
       "        text-align: right;\n",
       "    }\n",
       "</style>\n",
       "<table border=\"1\" class=\"dataframe\">\n",
       "  <thead>\n",
       "    <tr style=\"text-align: right;\">\n",
       "      <th></th>\n",
       "      <th>PurchaseOrderId</th>\n",
       "      <th>product_name</th>\n",
       "      <th>purchase_count</th>\n",
       "      <th>purchase_dummy</th>\n",
       "    </tr>\n",
       "  </thead>\n",
       "  <tbody>\n",
       "    <tr>\n",
       "      <th>0</th>\n",
       "      <td>15791</td>\n",
       "      <td>Plug Wire</td>\n",
       "      <td>1</td>\n",
       "      <td>1</td>\n",
       "    </tr>\n",
       "    <tr>\n",
       "      <th>1</th>\n",
       "      <td>15790</td>\n",
       "      <td>Air Filter</td>\n",
       "      <td>1</td>\n",
       "      <td>1</td>\n",
       "    </tr>\n",
       "    <tr>\n",
       "      <th>2</th>\n",
       "      <td>15936</td>\n",
       "      <td>Bracket</td>\n",
       "      <td>1</td>\n",
       "      <td>1</td>\n",
       "    </tr>\n",
       "    <tr>\n",
       "      <th>3</th>\n",
       "      <td>15936</td>\n",
       "      <td>Radiator Support Lower</td>\n",
       "      <td>1</td>\n",
       "      <td>1</td>\n",
       "    </tr>\n",
       "    <tr>\n",
       "      <th>4</th>\n",
       "      <td>15794</td>\n",
       "      <td>Alternator Belt</td>\n",
       "      <td>1</td>\n",
       "      <td>1</td>\n",
       "    </tr>\n",
       "    <tr>\n",
       "      <th>...</th>\n",
       "      <td>...</td>\n",
       "      <td>...</td>\n",
       "      <td>...</td>\n",
       "      <td>...</td>\n",
       "    </tr>\n",
       "    <tr>\n",
       "      <th>5518</th>\n",
       "      <td>18233</td>\n",
       "      <td>Spark Plug Set Of 4</td>\n",
       "      <td>1</td>\n",
       "      <td>1</td>\n",
       "    </tr>\n",
       "    <tr>\n",
       "      <th>5519</th>\n",
       "      <td>18239</td>\n",
       "      <td>Rear Outer Door Handle - LH</td>\n",
       "      <td>1</td>\n",
       "      <td>1</td>\n",
       "    </tr>\n",
       "    <tr>\n",
       "      <th>5520</th>\n",
       "      <td>18239</td>\n",
       "      <td>Outer Door Handle - RH</td>\n",
       "      <td>1</td>\n",
       "      <td>1</td>\n",
       "    </tr>\n",
       "    <tr>\n",
       "      <th>5521</th>\n",
       "      <td>18238</td>\n",
       "      <td>Mirror Cap - RH</td>\n",
       "      <td>1</td>\n",
       "      <td>1</td>\n",
       "    </tr>\n",
       "    <tr>\n",
       "      <th>5522</th>\n",
       "      <td>18238</td>\n",
       "      <td>Side Mirror Indicator - RH</td>\n",
       "      <td>1</td>\n",
       "      <td>1</td>\n",
       "    </tr>\n",
       "  </tbody>\n",
       "</table>\n",
       "<p>5523 rows × 4 columns</p>\n",
       "</div>"
      ],
      "text/plain": [
       "      PurchaseOrderId                 product_name  purchase_count  \\\n",
       "0               15791                    Plug Wire               1   \n",
       "1               15790                   Air Filter               1   \n",
       "2               15936                      Bracket               1   \n",
       "3               15936       Radiator Support Lower               1   \n",
       "4               15794              Alternator Belt               1   \n",
       "...               ...                          ...             ...   \n",
       "5518            18233          Spark Plug Set Of 4               1   \n",
       "5519            18239  Rear Outer Door Handle - LH               1   \n",
       "5520            18239       Outer Door Handle - RH               1   \n",
       "5521            18238              Mirror Cap - RH               1   \n",
       "5522            18238   Side Mirror Indicator - RH               1   \n",
       "\n",
       "      purchase_dummy  \n",
       "0                  1  \n",
       "1                  1  \n",
       "2                  1  \n",
       "3                  1  \n",
       "4                  1  \n",
       "...              ...  \n",
       "5518               1  \n",
       "5519               1  \n",
       "5520               1  \n",
       "5521               1  \n",
       "5522               1  \n",
       "\n",
       "[5523 rows x 4 columns]"
      ]
     },
     "execution_count": 93,
     "metadata": {},
     "output_type": "execute_result"
    }
   ],
   "source": [
    "data_dummy"
   ]
  },
  {
   "cell_type": "code",
   "execution_count": 94,
   "id": "670f76e5",
   "metadata": {},
   "outputs": [],
   "source": [
    "data_dummy.loc[len(data_dummy.index)] = [121,'Fender Liner - L/H Front', 1,1] "
   ]
  },
  {
   "cell_type": "code",
   "execution_count": 95,
   "id": "17f59ed1",
   "metadata": {},
   "outputs": [
    {
     "data": {
      "text/html": [
       "<div>\n",
       "<style scoped>\n",
       "    .dataframe tbody tr th:only-of-type {\n",
       "        vertical-align: middle;\n",
       "    }\n",
       "\n",
       "    .dataframe tbody tr th {\n",
       "        vertical-align: top;\n",
       "    }\n",
       "\n",
       "    .dataframe thead th {\n",
       "        text-align: right;\n",
       "    }\n",
       "</style>\n",
       "<table border=\"1\" class=\"dataframe\">\n",
       "  <thead>\n",
       "    <tr style=\"text-align: right;\">\n",
       "      <th></th>\n",
       "      <th>PurchaseOrderId</th>\n",
       "      <th>product_name</th>\n",
       "      <th>purchase_count</th>\n",
       "      <th>purchase_dummy</th>\n",
       "    </tr>\n",
       "  </thead>\n",
       "  <tbody>\n",
       "    <tr>\n",
       "      <th>0</th>\n",
       "      <td>15791</td>\n",
       "      <td>Plug Wire</td>\n",
       "      <td>1</td>\n",
       "      <td>1</td>\n",
       "    </tr>\n",
       "    <tr>\n",
       "      <th>1</th>\n",
       "      <td>15790</td>\n",
       "      <td>Air Filter</td>\n",
       "      <td>1</td>\n",
       "      <td>1</td>\n",
       "    </tr>\n",
       "    <tr>\n",
       "      <th>2</th>\n",
       "      <td>15936</td>\n",
       "      <td>Bracket</td>\n",
       "      <td>1</td>\n",
       "      <td>1</td>\n",
       "    </tr>\n",
       "    <tr>\n",
       "      <th>3</th>\n",
       "      <td>15936</td>\n",
       "      <td>Radiator Support Lower</td>\n",
       "      <td>1</td>\n",
       "      <td>1</td>\n",
       "    </tr>\n",
       "    <tr>\n",
       "      <th>4</th>\n",
       "      <td>15794</td>\n",
       "      <td>Alternator Belt</td>\n",
       "      <td>1</td>\n",
       "      <td>1</td>\n",
       "    </tr>\n",
       "    <tr>\n",
       "      <th>...</th>\n",
       "      <td>...</td>\n",
       "      <td>...</td>\n",
       "      <td>...</td>\n",
       "      <td>...</td>\n",
       "    </tr>\n",
       "    <tr>\n",
       "      <th>5519</th>\n",
       "      <td>18239</td>\n",
       "      <td>Rear Outer Door Handle - LH</td>\n",
       "      <td>1</td>\n",
       "      <td>1</td>\n",
       "    </tr>\n",
       "    <tr>\n",
       "      <th>5520</th>\n",
       "      <td>18239</td>\n",
       "      <td>Outer Door Handle - RH</td>\n",
       "      <td>1</td>\n",
       "      <td>1</td>\n",
       "    </tr>\n",
       "    <tr>\n",
       "      <th>5521</th>\n",
       "      <td>18238</td>\n",
       "      <td>Mirror Cap - RH</td>\n",
       "      <td>1</td>\n",
       "      <td>1</td>\n",
       "    </tr>\n",
       "    <tr>\n",
       "      <th>5522</th>\n",
       "      <td>18238</td>\n",
       "      <td>Side Mirror Indicator - RH</td>\n",
       "      <td>1</td>\n",
       "      <td>1</td>\n",
       "    </tr>\n",
       "    <tr>\n",
       "      <th>5523</th>\n",
       "      <td>121</td>\n",
       "      <td>Fender Liner - L/H Front</td>\n",
       "      <td>1</td>\n",
       "      <td>1</td>\n",
       "    </tr>\n",
       "  </tbody>\n",
       "</table>\n",
       "<p>5524 rows × 4 columns</p>\n",
       "</div>"
      ],
      "text/plain": [
       "      PurchaseOrderId                 product_name  purchase_count  \\\n",
       "0               15791                    Plug Wire               1   \n",
       "1               15790                   Air Filter               1   \n",
       "2               15936                      Bracket               1   \n",
       "3               15936       Radiator Support Lower               1   \n",
       "4               15794              Alternator Belt               1   \n",
       "...               ...                          ...             ...   \n",
       "5519            18239  Rear Outer Door Handle - LH               1   \n",
       "5520            18239       Outer Door Handle - RH               1   \n",
       "5521            18238              Mirror Cap - RH               1   \n",
       "5522            18238   Side Mirror Indicator - RH               1   \n",
       "5523              121     Fender Liner - L/H Front               1   \n",
       "\n",
       "      purchase_dummy  \n",
       "0                  1  \n",
       "1                  1  \n",
       "2                  1  \n",
       "3                  1  \n",
       "4                  1  \n",
       "...              ...  \n",
       "5519               1  \n",
       "5520               1  \n",
       "5521               1  \n",
       "5522               1  \n",
       "5523               1  \n",
       "\n",
       "[5524 rows x 4 columns]"
      ]
     },
     "execution_count": 95,
     "metadata": {},
     "output_type": "execute_result"
    }
   ],
   "source": [
    "data_dummy"
   ]
  },
  {
   "cell_type": "code",
   "execution_count": 96,
   "id": "4017f3ce",
   "metadata": {},
   "outputs": [],
   "source": [
    "user_id = 'PurchaseOrderId'\n",
    "item_id = 'product_name'\n",
    "n_rec = 3"
   ]
  },
  {
   "cell_type": "code",
   "execution_count": null,
   "id": "9b1cdc19",
   "metadata": {},
   "outputs": [],
   "source": []
  },
  {
   "cell_type": "code",
   "execution_count": null,
   "id": "dfe71437",
   "metadata": {},
   "outputs": [],
   "source": []
  },
  {
   "cell_type": "code",
   "execution_count": 97,
   "id": "ef3a3a15",
   "metadata": {},
   "outputs": [
    {
     "data": {
      "text/html": [
       "<pre>Warning: Ignoring columns purchase_count;</pre>"
      ],
      "text/plain": [
       "Warning: Ignoring columns purchase_count;"
      ]
     },
     "metadata": {},
     "output_type": "display_data"
    },
    {
     "data": {
      "text/html": [
       "<pre>    To use these columns in scoring predictions, use a model that allows the use of additional features.</pre>"
      ],
      "text/plain": [
       "    To use these columns in scoring predictions, use a model that allows the use of additional features."
      ]
     },
     "metadata": {},
     "output_type": "display_data"
    },
    {
     "data": {
      "text/html": [
       "<pre>Preparing data set.</pre>"
      ],
      "text/plain": [
       "Preparing data set."
      ]
     },
     "metadata": {},
     "output_type": "display_data"
    },
    {
     "data": {
      "text/html": [
       "<pre>    Data has 5524 observations with 2442 users and 805 items.</pre>"
      ],
      "text/plain": [
       "    Data has 5524 observations with 2442 users and 805 items."
      ]
     },
     "metadata": {},
     "output_type": "display_data"
    },
    {
     "data": {
      "text/html": [
       "<pre>    Data prepared in: 0.045663s</pre>"
      ],
      "text/plain": [
       "    Data prepared in: 0.045663s"
      ]
     },
     "metadata": {},
     "output_type": "display_data"
    },
    {
     "data": {
      "text/html": [
       "<pre>Training model from provided data.</pre>"
      ],
      "text/plain": [
       "Training model from provided data."
      ]
     },
     "metadata": {},
     "output_type": "display_data"
    },
    {
     "data": {
      "text/html": [
       "<pre>Gathering per-item and per-user statistics.</pre>"
      ],
      "text/plain": [
       "Gathering per-item and per-user statistics."
      ]
     },
     "metadata": {},
     "output_type": "display_data"
    },
    {
     "data": {
      "text/html": [
       "<pre>+--------------------------------+------------+</pre>"
      ],
      "text/plain": [
       "+--------------------------------+------------+"
      ]
     },
     "metadata": {},
     "output_type": "display_data"
    },
    {
     "data": {
      "text/html": [
       "<pre>| Elapsed Time (Item Statistics) | % Complete |</pre>"
      ],
      "text/plain": [
       "| Elapsed Time (Item Statistics) | % Complete |"
      ]
     },
     "metadata": {},
     "output_type": "display_data"
    },
    {
     "data": {
      "text/html": [
       "<pre>+--------------------------------+------------+</pre>"
      ],
      "text/plain": [
       "+--------------------------------+------------+"
      ]
     },
     "metadata": {},
     "output_type": "display_data"
    },
    {
     "data": {
      "text/html": [
       "<pre>| 1.067ms                        | 40.75      |</pre>"
      ],
      "text/plain": [
       "| 1.067ms                        | 40.75      |"
      ]
     },
     "metadata": {},
     "output_type": "display_data"
    },
    {
     "data": {
      "text/html": [
       "<pre>| 1.383ms                        | 100        |</pre>"
      ],
      "text/plain": [
       "| 1.383ms                        | 100        |"
      ]
     },
     "metadata": {},
     "output_type": "display_data"
    },
    {
     "data": {
      "text/html": [
       "<pre>+--------------------------------+------------+</pre>"
      ],
      "text/plain": [
       "+--------------------------------+------------+"
      ]
     },
     "metadata": {},
     "output_type": "display_data"
    },
    {
     "data": {
      "text/html": [
       "<pre>Setting up lookup tables.</pre>"
      ],
      "text/plain": [
       "Setting up lookup tables."
      ]
     },
     "metadata": {},
     "output_type": "display_data"
    },
    {
     "data": {
      "text/html": [
       "<pre>Processing data in one pass using dense lookup tables.</pre>"
      ],
      "text/plain": [
       "Processing data in one pass using dense lookup tables."
      ]
     },
     "metadata": {},
     "output_type": "display_data"
    },
    {
     "data": {
      "text/html": [
       "<pre>+-------------------------------------+------------------+-----------------+</pre>"
      ],
      "text/plain": [
       "+-------------------------------------+------------------+-----------------+"
      ]
     },
     "metadata": {},
     "output_type": "display_data"
    },
    {
     "data": {
      "text/html": [
       "<pre>| Elapsed Time (Constructing Lookups) | Total % Complete | Items Processed |</pre>"
      ],
      "text/plain": [
       "| Elapsed Time (Constructing Lookups) | Total % Complete | Items Processed |"
      ]
     },
     "metadata": {},
     "output_type": "display_data"
    },
    {
     "data": {
      "text/html": [
       "<pre>+-------------------------------------+------------------+-----------------+</pre>"
      ],
      "text/plain": [
       "+-------------------------------------+------------------+-----------------+"
      ]
     },
     "metadata": {},
     "output_type": "display_data"
    },
    {
     "data": {
      "text/html": [
       "<pre>| 5.009ms                             | 0                | 0               |</pre>"
      ],
      "text/plain": [
       "| 5.009ms                             | 0                | 0               |"
      ]
     },
     "metadata": {},
     "output_type": "display_data"
    },
    {
     "data": {
      "text/html": [
       "<pre>| 16.048ms                            | 100              | 805             |</pre>"
      ],
      "text/plain": [
       "| 16.048ms                            | 100              | 805             |"
      ]
     },
     "metadata": {},
     "output_type": "display_data"
    },
    {
     "data": {
      "text/html": [
       "<pre>+-------------------------------------+------------------+-----------------+</pre>"
      ],
      "text/plain": [
       "+-------------------------------------+------------------+-----------------+"
      ]
     },
     "metadata": {},
     "output_type": "display_data"
    },
    {
     "data": {
      "text/html": [
       "<pre>Finalizing lookup tables.</pre>"
      ],
      "text/plain": [
       "Finalizing lookup tables."
      ]
     },
     "metadata": {},
     "output_type": "display_data"
    },
    {
     "data": {
      "text/html": [
       "<pre>Generating candidate set for working with new users.</pre>"
      ],
      "text/plain": [
       "Generating candidate set for working with new users."
      ]
     },
     "metadata": {},
     "output_type": "display_data"
    },
    {
     "data": {
      "text/html": [
       "<pre>Finished training in 0.021948s</pre>"
      ],
      "text/plain": [
       "Finished training in 0.021948s"
      ]
     },
     "metadata": {},
     "output_type": "display_data"
    }
   ],
   "source": [
    "final_model = tc.item_similarity_recommender.create(tc.SFrame(data_dummy),\n",
    "                                            user_id=user_id, \n",
    "                                            item_id=item_id,\n",
    "                                            target='purchase_dummy', similarity_type='cosine')"
   ]
  },
  {
   "cell_type": "code",
   "execution_count": 98,
   "id": "9f576660",
   "metadata": {},
   "outputs": [],
   "source": [
    "def create_output(model, user_to_recommend, n_rec):\n",
    "    recomendation = model.recommend(users=user_to_recommend, k=n_rec)\n",
    "    return recomendation"
   ]
  },
  {
   "cell_type": "code",
   "execution_count": 101,
   "id": "deb93584",
   "metadata": {},
   "outputs": [],
   "source": [
    "user_to_recommend_item =[121]\n",
    "df_output = create_output(final_model,user_to_recommend_item , n_rec)"
   ]
  },
  {
   "cell_type": "code",
   "execution_count": 102,
   "id": "93f29711",
   "metadata": {},
   "outputs": [
    {
     "name": "stdout",
     "output_type": "stream",
     "text": [
      "+-----------------+---------------------------+--------------------+------+\n",
      "| PurchaseOrderId |        product_name       |       score        | rank |\n",
      "+-----------------+---------------------------+--------------------+------+\n",
      "|       121       |  Fender Liner - R/H Front | 0.6681531071662903 |  1   |\n",
      "|       121       | Rear Bumper Bracket Right | 0.3535534143447876 |  2   |\n",
      "|       121       |       Bumper - Rear       | 0.3535534143447876 |  3   |\n",
      "+-----------------+---------------------------+--------------------+------+\n",
      "[3 rows x 4 columns]\n",
      "\n"
     ]
    }
   ],
   "source": [
    "print(df_output)"
   ]
  },
  {
   "cell_type": "code",
   "execution_count": null,
   "id": "0306d60b",
   "metadata": {},
   "outputs": [],
   "source": []
  },
  {
   "cell_type": "code",
   "execution_count": null,
   "id": "eb26f0c8",
   "metadata": {},
   "outputs": [],
   "source": []
  }
 ],
 "metadata": {
  "kernelspec": {
   "display_name": "Python 3",
   "language": "python",
   "name": "python3"
  },
  "language_info": {
   "codemirror_mode": {
    "name": "ipython",
    "version": 3
   },
   "file_extension": ".py",
   "mimetype": "text/x-python",
   "name": "python",
   "nbconvert_exporter": "python",
   "pygments_lexer": "ipython3",
   "version": "3.6.13"
  }
 },
 "nbformat": 4,
 "nbformat_minor": 5
}
